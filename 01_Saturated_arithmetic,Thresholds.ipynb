{
 "cells": [
  {
   "cell_type": "markdown",
   "metadata": {},
   "source": [
    "## Linear stretch\n",
    "- Your code will take as input a color image im (a torch.Tensor with dtype torch.uint8 and rank 3) and two scalars a and b. It must apply a pixel-wise linear transformation (every pixel p\n",
    " is transformed to a⋅p+b\n",
    "). The code should produce a new image out with the same shape and dtype.\n",
    "\n",
    "- a and b can be either ints or floats. Be careful to: compute the exact result, round to nearest integer and then clip between 0 and 255."
   ]
  },
  {
   "cell_type": "code",
   "execution_count": null,
   "metadata": {},
   "outputs": [],
   "source": [
    "import random\n",
    "import numpy as np\n",
    "import torch\n",
    "from skimage import data\n",
    "from skimage.transform import resize\n",
    "\n",
    "im = data.coffee()\n",
    "im = resize(im, (im.shape[0] // 8, im.shape[1] // 8), mode='reflect', preserve_range=True, anti_aliasing=True).astype(np.uint8)\n",
    "im = np.swapaxes(np.swapaxes(im, 0, 2), 1, 2)\n",
    "im = torch.from_numpy(im)\n",
    "\n",
    "a = random.uniform(0,2)\n",
    "b = random.uniform(-50,50)\n",
    "\n",
    "out=torch.clip(torch.round(a*im+b), 0, 255).type(torch.uint8)"
   ]
  },
  {
   "cell_type": "markdown",
   "metadata": {},
   "source": [
    "## Thresholding\n",
    "- Given an input grayscale image im (a torch.Tensor with shape (H, W) and dtype torch.uint8), write a code which performs a binary thresholding of the image at cut value val, and stores the result in out.\n",
    "\n",
    "- out should be another image, with the same shape of im, and with all the pixels greater than the threshold set to 255, all the others set to 0.\n",
    "\n",
    "- Be careful not to modify the original tensor in-place: the function should perform the thresholding on a copy of the image."
   ]
  },
  {
   "cell_type": "code",
   "execution_count": null,
   "metadata": {},
   "outputs": [],
   "source": [
    "import random\n",
    "import numpy as np\n",
    "from skimage import data\n",
    "from skimage.transform import resize\n",
    "import torch\n",
    "\n",
    "im = data.camera()\n",
    "im = resize(im, (im.shape[0] // 2, im.shape[1] // 2), mode='reflect', preserve_range=True, anti_aliasing=True).astype(np.uint8)\n",
    "im = torch.from_numpy(im)\n",
    "val = random.randint(0, 255)\n",
    "\n",
    "out=im.clone()\n",
    "out=torch.where(out>val, 255, 0).type(torch.uint8)"
   ]
  },
  {
   "cell_type": "markdown",
   "metadata": {},
   "source": [
    "## Otsu Thresholding\n",
    "- Given an input grayscale image im (a torch.Tensor with shape (H, W) and dtype torch.uint8), write a code which computes the Otsu threshold for im stores the result in out.\n",
    "\n",
    "- Notice: beware of how the threshold is defined in the Otsu formulas. Your output should be compliant with our first definition of threshold."
   ]
  },
  {
   "cell_type": "code",
   "execution_count": null,
   "metadata": {},
   "outputs": [],
   "source": [
    "import random\n",
    "import numpy as np\n",
    "from skimage import data\n",
    "from skimage.transform import resize\n",
    "import torch\n",
    "\n",
    "im = data.camera()\n",
    "im = resize(im, (im.shape[0] // 2, im.shape[1] // 2), mode='reflect', preserve_range=True, anti_aliasing=True).astype(np.uint8)\n",
    "im = torch.from_numpy(im)\n",
    "\n",
    "var=0\n",
    "tmp=0\n",
    "out=0\n",
    "hist = torch.histc(im.float(), 256, 0, 255)\n",
    "hist = hist / torch.sum(hist)\n",
    "for i in range(256):\n",
    "  w1=torch.sum(hist[:i+1])\n",
    "  w2=torch.sum(hist[i+1:])\n",
    "  m1 = torch.sum(hist[:i+1] * torch.arange(i+1)) / w1\n",
    "  m2 = torch.sum(hist[i+1:] * torch.arange(i+1, 256)) / w2\n",
    "  tmp=w1*w2*((m1-m2)**2)\n",
    "  if(var<=tmp):\n",
    "    var=tmp\n",
    "    out=i\n",
    "\n"
   ]
  }
 ],
 "metadata": {
  "language_info": {
   "name": "python"
  }
 },
 "nbformat": 4,
 "nbformat_minor": 2
}
