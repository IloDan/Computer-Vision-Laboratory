{
 "cells": [
  {
   "cell_type": "markdown",
   "metadata": {},
   "source": [
    "## 2D Transpose Convolution\n",
    "- Your code will take an input tensor input with shape (n, iC, H, W), a kernel kernel with shape (iC, oC, kH, kW) and a stride s.\n",
    "\n",
    "- It needs then to apply a 2D Transpose convolution over input, using kernel as kernel tensor, using a stride of s on both axes, no dilation, no grouping, and no padding, and store the result in out.\n",
    "\n",
    "- input and kernel are torch.Tensor with dtype torch.float32. s is an integer."
   ]
  },
  {
   "cell_type": "code",
   "execution_count": null,
   "metadata": {},
   "outputs": [],
   "source": [
    "import random\n",
    "import torch\n",
    "\n",
    "n = random.randint(2, 6)\n",
    "iC = random.randint(2, 6)\n",
    "oC = random.randint(2, 6)\n",
    "H = random.randint(10, 20)\n",
    "W = random.randint(10, 20)\n",
    "kH = random.randint(2, 6)\n",
    "kW = random.randint(2, 6)\n",
    "s = random.randint(2, 6)\n",
    "\n",
    "input = torch.rand(n, iC, H, W)\n",
    "kernel = torch.rand(iC, oC, kH, kW)\n",
    "\n",
    "n, iC, H, W = input.shape\n",
    "oC, iC, kH, kW= kernel.shape\n",
    "\n",
    "oH, oW = (H -1) * s + 1,  (W -1) * s + 1\n",
    "\n",
    "out=torch.zeros(n, oC, oH, oW)\n",
    "for i in range(H):\n",
    "  for j in range(W):\n",
    "    inp = input.unsqueeze(1)[:, :, :, i, j]\n",
    "    ker = kernel.unsqueeze(0)\n",
    "    out[:, :, i*s : s*i+kH, j*s : s*j+kW] += (inp*ker).sum(1)"
   ]
  }
 ],
 "metadata": {
  "language_info": {
   "name": "python"
  }
 },
 "nbformat": 4,
 "nbformat_minor": 2
}
