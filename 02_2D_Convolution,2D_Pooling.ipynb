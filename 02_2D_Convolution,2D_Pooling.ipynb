{
 "cells": [
  {
   "cell_type": "markdown",
   "metadata": {},
   "source": [
    "## 2D Convolution\n",
    "- Your code will take an input tensor input with shape (n, iC, H, W) and a kernel kernel with shape (oC, iC, kH, kW). \n",
    "- It needs then to apply a 2D convolution over input, using kernel as kernel tensor and no bias, using a stride of 1, no dilation, no grouping, and no padding, and store the result in out.\n",
    "- Both input and kernel have dtype torch.float32."
   ]
  },
  {
   "cell_type": "code",
   "execution_count": null,
   "metadata": {},
   "outputs": [],
   "source": [
    "import random\n",
    "import torch\n",
    "\n",
    "n = random.randint(2, 6)\n",
    "iC = random.randint(2, 6)\n",
    "oC = random.randint(2, 6)\n",
    "H = random.randint(10, 20)\n",
    "W = random.randint(10, 20)\n",
    "kH = random.randint(2, 6)\n",
    "kW = random.randint(2, 6)\n",
    "\n",
    "input = torch.rand(n, iC, H, W, dtype=torch.float32)\n",
    "kernel = torch.rand(oC, iC, kH, kW, dtype=torch.float32)\n",
    "\n",
    "n, iC, H, W = input.shape\n",
    "oC, iC, kH, kW= kernel.shape\n",
    "\n",
    "oH, oW = H - (kH - 1), W - (kW - 1)\n",
    "\n",
    "out=torch.zeros(n, oC, oH, oW)\n",
    "for i in range(oH):\n",
    "  for j in range(oW):\n",
    "    inp = input.unsqueeze(1)[:, :, :, i:i+kH, j:j+kW]\n",
    "    ker = kernel.unsqueeze(0)\n",
    "    out[:, :, i, j] = (inp*ker).sum((-1, -2, -3))"
   ]
  },
  {
   "cell_type": "markdown",
   "metadata": {},
   "source": [
    "## 2D Pooling\n",
    "- Your code will take as input:\n",
    "  - a tensor input with shape (n, iC, H, W);\n",
    "  - a kernel height kH and a kernel width kW;\n",
    "  - a stride s;\n",
    "- It needs then to apply a 2D max-pooling over input, using the given kernel size and stride, and store the result in out. Input input has dtype torch.float32."
   ]
  },
  {
   "cell_type": "code",
   "execution_count": null,
   "metadata": {},
   "outputs": [],
   "source": [
    "import random\n",
    "import torch\n",
    "\n",
    "n = random.randint(2, 6)\n",
    "iC = random.randint(2, 6)\n",
    "H = random.randint(10, 20)\n",
    "W = random.randint(10, 20)\n",
    "kH = random.randint(2, 5)\n",
    "kW = random.randint(2, 5)\n",
    "s = random.randint(2, 3)\n",
    "input = torch.rand((n, iC, H, W), dtype=torch.float32)\n",
    "\n",
    "n, iC, H, W = input.shape\n",
    "\n",
    "oH, oW =int(((H-kH)/s) + 1) , int (((W-kW)/s) + 1)  \n",
    "out=torch.zeros(n, iC, oH, oW)\n",
    "for i in range(oH):\n",
    "  for j in range(oW):\n",
    "    out[:, :, i, j] =input[:, :, s*i: i*s +kH, s*j: j*s + kW].amax(dim=[2,3])"
   ]
  }
 ],
 "metadata": {
  "language_info": {
   "name": "python"
  }
 },
 "nbformat": 4,
 "nbformat_minor": 2
}
