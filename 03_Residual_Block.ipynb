{
 "cells": [
  {
   "cell_type": "markdown",
   "metadata": {},
   "source": [
    "## Residual block\n",
    "- A residual block is defined as\n",
    "  - y=σ(F(x)+G(x))\n",
    "- where x and y  represent the input and output tensors of the block, σ is the ReLU activation function, F is the residual function to be learned and G is a projection shortcut used to match dimensions between F(x) and x.\n",
    "\n",
    "- Your code needs to define a ResidualBlock class (inherited from nn.Module) which implements a residual block. In your code, F will be implemented with two convolutional layers with a ReLU non-linearity between them, i.e. F=conv2(σ(conv1(x))). Batch normalization will also be adopted right after each convolution operation.\n",
    "\n",
    "- The constructor of the ResidualBlock class needs to take the following arguments as input:\n",
    "\n",
    "  - inplanes, the number of channels of x;\n",
    "  - planes, the number of output channels of conv1 and conv2;\n",
    "  - stride, the stride of conv1;\n",
    "- If the shapes of F(x)and x do not match (either because inplanes != planes, or because stride > 1) ResidualBlock also needs to apply a projection shortcut G, composed of a convolutional layer with kernel size 1×1, no bias, no padding and stride stride, followed by a batch normalization. Otherwise G\n",
    "is simply the identity function.\n",
    "\n",
    "- The forward method of ResidualBlock will take as input the input tensor x and return the output tensor y, after performing all the operations of a Residual block."
   ]
  },
  {
   "cell_type": "code",
   "execution_count": null,
   "metadata": {},
   "outputs": [],
   "source": [
    "import torch\n",
    "import torch.nn as nn\n",
    "import torch.nn.functional as F\n",
    "\n",
    "class ResidualBlock(nn.Module):\n",
    "    def __init__(self, inplanes, planes, stride):\n",
    "        super(ResidualBlock, self).__init__()\n",
    "\n",
    "        # Define the convolutional layers for F\n",
    "        self.conv1 = nn.Conv2d(inplanes, planes, kernel_size=3, stride=stride, padding=1, bias=False)\n",
    "        self.bn1 = nn.BatchNorm2d(planes)\n",
    "        self.conv2 = nn.Conv2d(planes, planes, kernel_size=3, stride=1, padding=1, bias=False)\n",
    "        self.bn2 = nn.BatchNorm2d(planes)\n",
    "\n",
    "        # Define the shortcut connection G\n",
    "        if stride != 1 or inplanes != planes:\n",
    "            self.shortcut = nn.Sequential(\n",
    "                nn.Conv2d(inplanes, planes, kernel_size=1, stride=stride, bias=False),\n",
    "                nn.BatchNorm2d(planes)\n",
    "            )\n",
    "        else:\n",
    "            self.shortcut = nn.Identity()\n",
    "\n",
    "    def forward(self, x):\n",
    "        # F(x) computation\n",
    "        out = F.relu(self.bn1(self.conv1(x)))\n",
    "        out = self.bn2(self.conv2(out))\n",
    "\n",
    "        # Shortcut connection\n",
    "        shortcut = self.shortcut(x)\n",
    "\n",
    "        # Residual connection\n",
    "        out += shortcut\n",
    "        out = F.relu(out)\n",
    "\n",
    "        return out"
   ]
  }
 ],
 "metadata": {
  "kernelspec": {
   "display_name": "base",
   "language": "python",
   "name": "python3"
  },
  "language_info": {
   "name": "python",
   "version": "3.11.4"
  }
 },
 "nbformat": 4,
 "nbformat_minor": 2
}
