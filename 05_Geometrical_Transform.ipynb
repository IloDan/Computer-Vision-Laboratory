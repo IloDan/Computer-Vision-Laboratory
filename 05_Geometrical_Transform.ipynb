{
 "cells": [
  {
   "cell_type": "markdown",
   "metadata": {},
   "source": [
    "## Image Stitching\n",
    "- Your code will take as input two color images im_a and im_b (np.ndarray with dtype np.uint8 and shape (3, H, W)), depicting the same scene from two different perspectives.\n",
    "\n",
    "- You then need to:\n",
    "  - Manually identify (at least) four corresponding pairs of points\n",
    "  - Estimate the homography between the first and the second image using the detected point pairs.\n",
    "  - Warp the second image using the estimated transformation matrix.\n",
    "  - \"Merge\" the two images in a single one by sticking one on top of the other.\n",
    "- The code is expected to show the final result using pyplot (e.g. calling the imshow function). When doing this, pay attention to the axis order (their format is (W, H, 3)).\n",
    "\n",
    "- If you employ OpenCV functions, recall that the OpenCV format is (W, H, 3).\n",
    "\n",
    "- Resources\n",
    "  - im_a can be downloaded [here](https://ailb-web.ing.unimore.it/courses/media/vcs2020/question-data/gallery_0.jpg)\n",
    "  - im_b can be downloaded [here](https://ailb-web.ing.unimore.it/courses/media/vcs2020/question-data/gallery_1.jpg)\n",
    "  - A sample result can be downloaded [here](https://ailb-web.ing.unimore.it/courses/media/vcs2020/question-data/stiching_result.png)"
   ]
  },
  {
   "cell_type": "code",
   "execution_count": null,
   "metadata": {},
   "outputs": [],
   "source": [
    "from io import BytesIO\n",
    "import numpy as np\n",
    "import cv2\n",
    "from skimage import data\n",
    "\n",
    "bio = BytesIO(data_files[\"question-data/gallery_0.jpg\"])\n",
    "bytes = np.asarray(bytearray(bio.read()), dtype=np.uint8)\n",
    "im_a = cv2.imdecode(bytes, cv2.IMREAD_COLOR)\n",
    "im_a = np.swapaxes(np.swapaxes(im_a, 0, 2), 1, 2)\n",
    "im_a = im_a[::-1, :, :]  # from BGR to RGB\n",
    "\n",
    "bio = BytesIO(data_files[\"question-data/gallery_1.jpg\"])\n",
    "bytes = np.asarray(bytearray(bio.read()), dtype=np.uint8)\n",
    "im_b = cv2.imdecode(bytes, cv2.IMREAD_COLOR)\n",
    "im_b = np.swapaxes(np.swapaxes(im_b, 0, 2), 1, 2)\n",
    "im_b = im_b[::-1, :, :]  # from BGR to RGB"
   ]
  },
  {
   "cell_type": "code",
   "execution_count": null,
   "metadata": {},
   "outputs": [],
   "source": [
    "import cv2\n",
    "import numpy as np\n",
    "import matplotlib.pyplot as plt\n",
    "\n",
    "# Load the images\n",
    "im_a = cv2.imread(\"path/to/gallery_0.jpg\")\n",
    "im_b = cv2.imread(\"path/to/gallery_1.jpg\")\n",
    "\n",
    "# Convert from BGR to RGB\n",
    "im_a = cv2.cvtColor(im_a, cv2.COLOR_BGR2RGB)\n",
    "im_b = cv2.cvtColor(im_b, cv2.COLOR_BGR2RGB)\n",
    "\n",
    "# Manually identify corresponding points\n",
    "# You need to replace these points with your own\n",
    "pts_a = np.array([[x1, y1], [x2, y2], [x3, y3], [x4, y4]], dtype=np.float32)\n",
    "pts_b = np.array([[x1', y1'], [x2', y2'], [x3', y3'], [x4', y4']], dtype=np.float32)\n",
    "\n",
    "# Calculate the homography matrix\n",
    "H, _ = cv2.findHomography(pts_a, pts_b)\n",
    "\n",
    "# Warp the second image\n",
    "im_b_warped = cv2.warpPerspective(im_b, H, (im_a.shape[1], im_a.shape[0]))\n",
    "\n",
    "# Merge the images\n",
    "result = cv2.addWeighted(im_a, 0.5, im_b_warped, 0.5, 0)\n",
    "\n",
    "# Display the result\n",
    "plt.imshow(result)\n",
    "plt.axis('off')\n",
    "plt.show()"
   ]
  }
 ],
 "metadata": {
  "kernelspec": {
   "display_name": "base",
   "language": "python",
   "name": "python3"
  },
  "language_info": {
   "name": "python",
   "version": "3.11.4"
  }
 },
 "nbformat": 4,
 "nbformat_minor": 2
}
