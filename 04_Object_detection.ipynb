{
 "cells": [
  {
   "cell_type": "markdown",
   "metadata": {},
   "source": [
    "## ROI POOLING\n",
    "- Implement a ROI Pooling operator. Your code will be given the following variables:\n",
    "  - input, a mini-batch of feature maps (a torch.Tensor with shape (n, C, H, W) and dtype torch.float32)\n",
    "  - boxes, a list of bounding box coordinates on which you need to perform the ROI Pooling. boxes will be a list of (L,4) torch.Tensor with dtype torch.float32, where boxes[i] will refer to the i-th element of the batch, and contain L coordinates in the format (y1, x1, y2, x2)\n",
    "  - a tuple of integers output_size, containing the number of cells over which pooling is performed, in the format (heigth, width)\n",
    "- The code should produce an output torch.Tensor out with dtype torch.float32 and shape (n, L, C, output_size[0], output_size[1])."
   ]
  },
  {
   "cell_type": "code",
   "execution_count": null,
   "metadata": {},
   "outputs": [],
   "source": [
    "import random\n",
    "import torch\n",
    "\n",
    "n = random.randint(1, 3)\n",
    "C = random.randint(10, 20)\n",
    "H = random.randint(5, 10)\n",
    "W = random.randint(5, 10)\n",
    "oH = random.randint(2, 4)\n",
    "oW = random.randint(2, 4)\n",
    "L = random.randint(2, 6)\n",
    "input = torch.rand(n, C, H, W)\n",
    "boxes = [torch.zeros(L, 4) for _ in range(n)]\n",
    "for i in range(n):\n",
    "  boxes[i][:, 0] = torch.rand(L) * (H-oH)       # y\n",
    "  boxes[i][:, 1] = torch.rand(L) * (W-oW)       # x\n",
    "  boxes[i][:, 2] = oH + torch.rand(L) * (H-oH)  # w\n",
    "  boxes[i][:, 3] = oW + torch.rand(L) * (W-oW)  # h\n",
    "\n",
    "  boxes[i][:,2:] += boxes[i][:,:2]\n",
    "  boxes[i][:,2] = torch.clamp(boxes[i][:,2], max=H-1)\n",
    "  boxes[i][:,3] = torch.clamp(boxes[i][:,3], max=W-1)\n",
    "output_size = (oH, oW)\n",
    "\n"
   ]
  },
  {
   "cell_type": "code",
   "execution_count": null,
   "metadata": {},
   "outputs": [],
   "source": [
    "import torch.nn.functional as F\n",
    "\n",
    "def roi_pooling(input, boxes, output_size):\n",
    "    n, C, H, W = input.shape\n",
    "    oH, oW = output_size\n",
    "    L = boxes[0].size(0)\n",
    "\n",
    "    output = torch.zeros(n, L, C, oH, oW)\n",
    "\n",
    "    for i in range(n):\n",
    "        for j in range(L):\n",
    "            box = boxes[i][j]\n",
    "            y1, x1, y2, x2 = box\n",
    "\n",
    "            # Ensure the box coordinates are within bounds\n",
    "            y1, x1, y2, x2 = int(y1), int(x1), int(y2), int(x2)\n",
    "            y1, y2 = max(0, y1), min(H, y2)\n",
    "            x1, x2 = max(0, x1), min(W, x2)\n",
    "\n",
    "            # Perform ROI Pooling\n",
    "            roi_features = F.adaptive_max_pool2d(input[i, :, y1:y2, x1:x2], output_size)\n",
    "            output[i, j, :, :, :] = roi_features\n",
    "\n",
    "    return output\n",
    "\n",
    "# Example usage with the provided variables\n",
    "output = roi_pooling(input, boxes, output_size)\n",
    "print(output.shape)"
   ]
  }
 ],
 "metadata": {
  "language_info": {
   "name": "python"
  }
 },
 "nbformat": 4,
 "nbformat_minor": 2
}
